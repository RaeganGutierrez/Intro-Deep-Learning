{
  "nbformat": 4,
  "nbformat_minor": 0,
  "metadata": {
    "colab": {
      "provenance": [],
      "include_colab_link": true
    },
    "kernelspec": {
      "display_name": "Python 3",
      "name": "python3"
    },
    "accelerator": "GPU"
  },
  "cells": [
    {
      "cell_type": "markdown",
      "metadata": {
        "id": "view-in-github",
        "colab_type": "text"
      },
      "source": [
        "<a href=\"https://colab.research.google.com/github/RaeganGutierrez/Intro-Deep-Learning/blob/main/Sequential_NN.ipynb\" target=\"_parent\"><img src=\"https://colab.research.google.com/assets/colab-badge.svg\" alt=\"Open In Colab\"/></a>"
      ]
    },
    {
      "cell_type": "markdown",
      "source": [
        "# P1 (40pt): A first look at a neural network\n",
        "\n",
        "We will now take a look at a first concrete example of a neural network, which makes use of the Python library Keras to learn to classify\n",
        "hand-written digits. The problem we are trying to solve here is to classify grayscale images of handwritten digits (28 pixels by 28 pixels), into their 10\n",
        "categories (0 to 9). The dataset we will use is the MNIST dataset, a classic dataset in the machine learning community, which has been\n",
        "around for almost as long as the field itself and has been very intensively studied. It's a set of 60,000 training images, plus 10,000 test\n",
        "images, assembled by the National Institute of Standards and Technology (the NIST in MNIST) in the 1980s. You can think of \"solving\" MNIST\n",
        "as the \"Hello World\" of deep learning -- it's what you do to verify that your algorithms are working as expected. As you become a machine\n",
        "learning practitioner, you will see MNIST come up over and over again, in scientific papers, blog posts, and so on.\n",
        "\n"
      ],
      "metadata": {
        "id": "e5GWh3ZrzTZJ"
      }
    },
    {
      "cell_type": "markdown",
      "source": [
        "The MNIST dataset comes pre-loaded in Keras, in the form of a set of four Numpy arrays. Read in the MNIST dataset and print out the shapes of the train and test sets. **(5pt)**"
      ],
      "metadata": {
        "id": "88r2U2qhbceh"
      }
    },
    {
      "cell_type": "code",
      "source": [
        "#load libraries\n",
        "import tensorflow as tf\n",
        "from tensorflow import keras\n",
        "from tensorflow.keras.datasets import mnist\n",
        "\n",
        "#read in data\n",
        "(train_images, train_labels), (test_images, test_labels) = mnist.load_data()\n",
        "\n",
        "#print train and test set shapes\n",
        "train_images.shape\n",
        "test_images.shape"
      ],
      "metadata": {
        "colab": {
          "base_uri": "https://localhost:8080/"
        },
        "id": "Kv8fJPZxbMyb",
        "outputId": "be3cc785-551e-4939-e917-f1ac3708ee6c"
      },
      "execution_count": 1,
      "outputs": [
        {
          "output_type": "stream",
          "name": "stdout",
          "text": [
            "Downloading data from https://storage.googleapis.com/tensorflow/tf-keras-datasets/mnist.npz\n",
            "11490434/11490434 [==============================] - 0s 0us/step\n"
          ]
        },
        {
          "output_type": "execute_result",
          "data": {
            "text/plain": [
              "(10000, 28, 28)"
            ]
          },
          "metadata": {},
          "execution_count": 1
        }
      ]
    },
    {
      "cell_type": "markdown",
      "source": [
        "The core building block of neural networks is the \"layer\", a data-processing module which you can conceive as a \"filter\" for data. Some\n",
        "data comes in, and comes out in a more useful form. Precisely, layers extract _representations_ out of the data fed into them -- hopefully\n",
        "representations that are more meaningful for the problem at hand. Most of deep learning really consists of chaining together simple layers\n",
        "which will implement a form of progressive \"data distillation\". A deep learning model is like a sieve for data processing, made of a\n",
        "succession of increasingly refined data filters -- the \"layers\".\n",
        "\n",
        "Give this network a sequence of two `Dense` layers, which are densely-connected (also called \"fully-connected\") neural layers.\n",
        "The first layer will have 512 neurons, a \"ReLU\" activiation, and be sure to include the input shape.\n",
        "The second (and last) layer is a 10-way \"softmax\" layer, which means it will return an array of 10 probability scores (summing to 1). Each\n",
        "score will be the probability that the current digit image belongs to one of our 10 digit classes. **(10pt)**"
      ],
      "metadata": {
        "id": "1m9hf_8BlC4e"
      }
    },
    {
      "cell_type": "code",
      "source": [
        "from tensorflow.keras import models\n",
        "from tensorflow.keras import layers\n",
        "\n",
        "#add layers\n",
        "network = models.Sequential()\n",
        "network.add(layers.Dense(512, activation='relu', input_shape=(28 * 28,)))\n",
        "network.add(layers.Dense(10, activation='softmax'))"
      ],
      "metadata": {
        "id": "rzg4d8ZjlMPh"
      },
      "execution_count": 2,
      "outputs": []
    },
    {
      "cell_type": "markdown",
      "source": [
        "To make our network ready for training, we need to pick three more things, as part of \"compilation\" step:\n",
        "\n",
        "* A loss function: the is how the network will be able to measure how good a job it is doing on its training data, and thus how it will be\n",
        "able to steer itself in the right direction.\n",
        "* An optimizer: this is the mechanism through which the network will update itself based on the data it sees and its loss function.\n",
        "* Metrics: monitor during training and testing.\n",
        "\n",
        "Define the appropriate optimizer, loss function, and metrics to compile the NN model. **(10pt)**"
      ],
      "metadata": {
        "id": "HrpfUfFilbzm"
      }
    },
    {
      "cell_type": "code",
      "source": [
        "#compile data\n",
        "network.compile(optimizer='rmsprop',\n",
        "                loss='categorical_crossentropy',\n",
        "                metrics=['accuracy'])"
      ],
      "metadata": {
        "id": "sHmIdniJlesZ"
      },
      "execution_count": 3,
      "outputs": []
    },
    {
      "cell_type": "markdown",
      "source": [
        "Before training, we will preprocess our data by reshaping it into the shape that the network expects, and scaling it so that all values are in\n",
        "the `[0, 1]` interval. Previously, our training images for instance were stored in an array of shape `(60000, 28, 28)` of type `uint8` with\n",
        "values in the `[0, 255]` interval.\n",
        "\n",
        "Reshape and transform the data into a `float32` array of shape `(60000, 28 * 28)` with values between 0 and 1. **(5pt)**"
      ],
      "metadata": {
        "id": "HDCScvyhlkG6"
      }
    },
    {
      "cell_type": "code",
      "source": [
        "#reshape data\n",
        "train_images = train_images.reshape((60000, 28 * 28))\n",
        "train_images = train_images.astype('float32') / 255\n",
        "\n",
        "test_images = test_images.reshape((10000, 28 * 28))\n",
        "test_images = test_images.astype('float32') / 255"
      ],
      "metadata": {
        "id": "AGceJA9HlnUZ"
      },
      "execution_count": 4,
      "outputs": []
    },
    {
      "cell_type": "markdown",
      "source": [
        "Once we one-hot encode the labels, we will then be ready to train our network. In Keras, this is done via a call to the `fit` method of the network:\n",
        "we \"fit\" the model to its training data.\n",
        "\n",
        "Transform all labels into their one-hot encoding forms. Fit the model to its training data with 5 epochs and a batch size of 128. **(5pt)**"
      ],
      "metadata": {
        "id": "Ci0MqKCSlxr-"
      }
    },
    {
      "cell_type": "code",
      "source": [
        "from tensorflow.keras.utils import to_categorical\n",
        "\n",
        "#encode data\n",
        "train_labels = to_categorical(train_labels)\n",
        "test_labels = to_categorical(test_labels)\n",
        "\n",
        "#train data\n",
        "network.fit(train_images, train_labels, epochs=5, batch_size=128)"
      ],
      "metadata": {
        "id": "c8VW1F7Llyur",
        "colab": {
          "base_uri": "https://localhost:8080/"
        },
        "outputId": "e0f3f34f-534b-4e9e-a2bf-c11335257cb7"
      },
      "execution_count": 5,
      "outputs": [
        {
          "output_type": "stream",
          "name": "stdout",
          "text": [
            "Epoch 1/5\n",
            "469/469 [==============================] - 3s 3ms/step - loss: 0.2643 - accuracy: 0.9250\n",
            "Epoch 2/5\n",
            "469/469 [==============================] - 1s 3ms/step - loss: 0.1068 - accuracy: 0.9682\n",
            "Epoch 3/5\n",
            "469/469 [==============================] - 1s 3ms/step - loss: 0.0708 - accuracy: 0.9788\n",
            "Epoch 4/5\n",
            "469/469 [==============================] - 2s 3ms/step - loss: 0.0507 - accuracy: 0.9850\n",
            "Epoch 5/5\n",
            "469/469 [==============================] - 2s 4ms/step - loss: 0.0385 - accuracy: 0.9886\n"
          ]
        },
        {
          "output_type": "execute_result",
          "data": {
            "text/plain": [
              "<keras.src.callbacks.History at 0x79dc76ac28f0>"
            ]
          },
          "metadata": {},
          "execution_count": 5
        }
      ]
    },
    {
      "cell_type": "markdown",
      "source": [
        "We quickly reach an accuracy of 0.989 (i.e. 98.9%) on the training data. Now let's check that our model performs well on the test set too.\n",
        "\n",
        "Make predictions on the testing dataset and print out the test accuracy. **(5pt)**"
      ],
      "metadata": {
        "id": "H3MLGRMXmbS6"
      }
    },
    {
      "cell_type": "code",
      "source": [
        "test_loss, test_acc = network.evaluate(test_images, test_labels)\n",
        "print('test_acc:', test_acc)"
      ],
      "metadata": {
        "id": "SNhd60x4mfvR",
        "colab": {
          "base_uri": "https://localhost:8080/"
        },
        "outputId": "8d05cc60-c8f8-484f-9c3c-e88bb6ff7fe5"
      },
      "execution_count": 6,
      "outputs": [
        {
          "output_type": "stream",
          "name": "stdout",
          "text": [
            "313/313 [==============================] - 1s 2ms/step - loss: 0.0614 - accuracy: 0.9811\n",
            "test_acc: 0.9811000227928162\n"
          ]
        }
      ]
    },
    {
      "cell_type": "markdown",
      "source": [
        "Our test set accuracy turns out to be 98.1% -- which is slightly lower than the training set accuracy. This gap between training accuracy and test accuracy is an example of \"overfitting\", the fact that machine learning models tend to perform worse on new data than on their training data."
      ],
      "metadata": {
        "id": "T2EfEpqbmm_i"
      }
    },
    {
      "cell_type": "markdown",
      "metadata": {
        "id": "dNWuJmipoeI1"
      },
      "source": [
        "# P2 (60pt): Write a Python code in Colab using NumPy, Panda, Scikit-Learn and Keras to complete the following tasks:\n",
        "1.\tImport the Auto MPG dataset, use the attribute names as explained in the dataset description as the column names, view the strings ‘?’ as the missing value, and whitespace as the column delimiter. Print out the shape and first 5 rows of the DataFrame. **(5pt)**\n",
        "\n",
        "    a.\tDataset source file: http://archive.ics.uci.edu/ml/machine-learning-databases/auto-mpg/auto-mpg.data\n",
        "\n",
        "    b.\tDataset description: http://archive.ics.uci.edu/ml/datasets/Auto+MPG"
      ]
    },
    {
      "cell_type": "code",
      "metadata": {
        "id": "1rRo8oNqZ-Rj"
      },
      "source": [
        "import matplotlib.pyplot as plt\n",
        "import pandas as pd\n",
        "import numpy as np\n",
        "np.random.seed(100)\n",
        "\n",
        "tf.random.set_seed(100)"
      ],
      "execution_count": null,
      "outputs": []
    },
    {
      "cell_type": "code",
      "metadata": {
        "id": "CiX2FI4gZtTt",
        "colab": {
          "base_uri": "https://localhost:8080/"
        },
        "outputId": "faf619a6-af1a-4ede-9119-5f872dd39241"
      },
      "source": [
        "#read in data\n",
        "auto = pd.read_csv('http://archive.ics.uci.edu/ml/machine-learning-databases/auto-mpg/auto-mpg.data',\n",
        "                   header = None,\n",
        "                   names =[\"mpg\", \"cylinders\", \"displacement\", \"horsepower\", \"weight\", \"acceleration\",\n",
        "                           \"model year\", \"origin\", \"car name\"],\n",
        "                   na_values ='?',\n",
        "                   delimiter = '\\s+')\n",
        "print(auto.shape)\n",
        "print(auto.head(5))"
      ],
      "execution_count": null,
      "outputs": [
        {
          "output_type": "stream",
          "name": "stdout",
          "text": [
            "(398, 9)\n",
            "    mpg  cylinders  displacement  horsepower  weight  acceleration  \\\n",
            "0  18.0          8         307.0       130.0  3504.0          12.0   \n",
            "1  15.0          8         350.0       165.0  3693.0          11.5   \n",
            "2  18.0          8         318.0       150.0  3436.0          11.0   \n",
            "3  16.0          8         304.0       150.0  3433.0          12.0   \n",
            "4  17.0          8         302.0       140.0  3449.0          10.5   \n",
            "\n",
            "   model year  origin                   car name  \n",
            "0          70       1  chevrolet chevelle malibu  \n",
            "1          70       1          buick skylark 320  \n",
            "2          70       1         plymouth satellite  \n",
            "3          70       1              amc rebel sst  \n",
            "4          70       1                ford torino  \n"
          ]
        }
      ]
    },
    {
      "cell_type": "markdown",
      "metadata": {
        "id": "QcrozGjAqYAy"
      },
      "source": [
        "2.\tDelete the “car_name” column and drop the rows containing NULL values. Print out the shape of the DataFrame. **(5pt)**"
      ]
    },
    {
      "cell_type": "code",
      "metadata": {
        "id": "JEJHhN65a2VV",
        "colab": {
          "base_uri": "https://localhost:8080/"
        },
        "outputId": "d56cd786-9658-4eaf-b844-ab748c3c73ca"
      },
      "source": [
        "#drop null values and 'car name' column\n",
        "auto2 = auto.drop('car name', axis = 'columns')\n",
        "auto3 = auto2.dropna()\n",
        "print(auto3.shape)\n",
        "print(auto3.info())"
      ],
      "execution_count": null,
      "outputs": [
        {
          "output_type": "stream",
          "name": "stdout",
          "text": [
            "(392, 8)\n",
            "<class 'pandas.core.frame.DataFrame'>\n",
            "Int64Index: 392 entries, 0 to 397\n",
            "Data columns (total 8 columns):\n",
            " #   Column        Non-Null Count  Dtype  \n",
            "---  ------        --------------  -----  \n",
            " 0   mpg           392 non-null    float64\n",
            " 1   cylinders     392 non-null    int64  \n",
            " 2   displacement  392 non-null    float64\n",
            " 3   horsepower    392 non-null    float64\n",
            " 4   weight        392 non-null    float64\n",
            " 5   acceleration  392 non-null    float64\n",
            " 6   model year    392 non-null    int64  \n",
            " 7   origin        392 non-null    int64  \n",
            "dtypes: float64(5), int64(3)\n",
            "memory usage: 27.6 KB\n",
            "None\n"
          ]
        }
      ]
    },
    {
      "cell_type": "markdown",
      "metadata": {
        "id": "-yoyL_Epqhhg"
      },
      "source": [
        "3.\tFor the ‘origin’ column with categorical attribute, replace it with the columns with numerical attributes using one-hot encoding. Print out the shape and first 5 rows of the new DataFrame. **(5pt)**"
      ]
    },
    {
      "cell_type": "code",
      "metadata": {
        "id": "ulXz4J7PAUzk",
        "colab": {
          "base_uri": "https://localhost:8080/"
        },
        "outputId": "4b44f586-49c0-4c5f-a418-5d8ee0ca16c4"
      },
      "source": [
        "#one-hot encode the 'origin' column\n",
        "from enum import auto\n",
        "auto3 = pd.get_dummies(data = auto3, columns = ['origin'])\n",
        "print(auto3.head(5))"
      ],
      "execution_count": null,
      "outputs": [
        {
          "output_type": "stream",
          "name": "stdout",
          "text": [
            "    mpg  cylinders  displacement  horsepower  weight  acceleration  \\\n",
            "0  18.0          8         307.0       130.0  3504.0          12.0   \n",
            "1  15.0          8         350.0       165.0  3693.0          11.5   \n",
            "2  18.0          8         318.0       150.0  3436.0          11.0   \n",
            "3  16.0          8         304.0       150.0  3433.0          12.0   \n",
            "4  17.0          8         302.0       140.0  3449.0          10.5   \n",
            "\n",
            "   model year  origin_1  origin_2  origin_3  \n",
            "0          70         1         0         0  \n",
            "1          70         1         0         0  \n",
            "2          70         1         0         0  \n",
            "3          70         1         0         0  \n",
            "4          70         1         0         0  \n"
          ]
        }
      ]
    },
    {
      "cell_type": "markdown",
      "metadata": {
        "id": "_VqBe47Pquj8"
      },
      "source": [
        "4.\tSeparate the “mpg” column from other columns and view it as the label vector and others as the feature matrix. Split the data into a training set (80%) and testing set (20%) and print out their shapes. Print out the statistics of your training feature matrix.  **(5pt)**"
      ]
    },
    {
      "cell_type": "code",
      "metadata": {
        "id": "qn-IGhUE7_1H",
        "colab": {
          "base_uri": "https://localhost:8080/",
          "height": 370
        },
        "outputId": "b2ee3b9e-dd27-48e8-d518-d9981ae5a437"
      },
      "source": [
        "from sklearn.model_selection import train_test_split\n",
        "\n",
        "#create train test split\n",
        "X = auto3.drop('mpg', axis = 'columns')\n",
        "y = auto3['mpg']\n",
        "X_train, X_test, y_train, y_test = train_test_split(X, y, random_state = 0, train_size = .8)\n",
        "\n",
        "print(X_train.shape)\n",
        "print(X_test.shape)\n",
        "print(y_train.shape)\n",
        "print(y_test.shape)\n",
        "\n",
        "X_train.describe()"
      ],
      "execution_count": null,
      "outputs": [
        {
          "output_type": "stream",
          "name": "stdout",
          "text": [
            "(313, 9)\n",
            "(79, 9)\n",
            "(313,)\n",
            "(79,)\n"
          ]
        },
        {
          "output_type": "execute_result",
          "data": {
            "text/plain": [
              "        cylinders  displacement  horsepower       weight  acceleration  \\\n",
              "count  313.000000    313.000000  313.000000   313.000000    313.000000   \n",
              "mean     5.447284    192.787540  104.009585  2972.255591     15.560383   \n",
              "std      1.690263    103.201153   37.915348   841.134947      2.785476   \n",
              "min      3.000000     68.000000   46.000000  1613.000000      8.000000   \n",
              "25%      4.000000    105.000000   78.000000  2230.000000     13.600000   \n",
              "50%      4.000000    151.000000   95.000000  2815.000000     15.500000   \n",
              "75%      8.000000    260.000000  120.000000  3574.000000     17.000000   \n",
              "max      8.000000    455.000000  230.000000  5140.000000     24.800000   \n",
              "\n",
              "       model year    origin_1    origin_2    origin_3  \n",
              "count  313.000000  313.000000  313.000000  313.000000  \n",
              "mean    76.070288    0.623003    0.169329    0.207668  \n",
              "std      3.660449    0.485410    0.375643    0.406287  \n",
              "min     70.000000    0.000000    0.000000    0.000000  \n",
              "25%     73.000000    0.000000    0.000000    0.000000  \n",
              "50%     76.000000    1.000000    0.000000    0.000000  \n",
              "75%     79.000000    1.000000    0.000000    0.000000  \n",
              "max     82.000000    1.000000    1.000000    1.000000  "
            ],
            "text/html": [
              "\n",
              "  <div id=\"df-e0cffd97-a397-42bd-ae98-622e07095e4b\">\n",
              "    <div class=\"colab-df-container\">\n",
              "      <div>\n",
              "<style scoped>\n",
              "    .dataframe tbody tr th:only-of-type {\n",
              "        vertical-align: middle;\n",
              "    }\n",
              "\n",
              "    .dataframe tbody tr th {\n",
              "        vertical-align: top;\n",
              "    }\n",
              "\n",
              "    .dataframe thead th {\n",
              "        text-align: right;\n",
              "    }\n",
              "</style>\n",
              "<table border=\"1\" class=\"dataframe\">\n",
              "  <thead>\n",
              "    <tr style=\"text-align: right;\">\n",
              "      <th></th>\n",
              "      <th>cylinders</th>\n",
              "      <th>displacement</th>\n",
              "      <th>horsepower</th>\n",
              "      <th>weight</th>\n",
              "      <th>acceleration</th>\n",
              "      <th>model year</th>\n",
              "      <th>origin_1</th>\n",
              "      <th>origin_2</th>\n",
              "      <th>origin_3</th>\n",
              "    </tr>\n",
              "  </thead>\n",
              "  <tbody>\n",
              "    <tr>\n",
              "      <th>count</th>\n",
              "      <td>313.000000</td>\n",
              "      <td>313.000000</td>\n",
              "      <td>313.000000</td>\n",
              "      <td>313.000000</td>\n",
              "      <td>313.000000</td>\n",
              "      <td>313.000000</td>\n",
              "      <td>313.000000</td>\n",
              "      <td>313.000000</td>\n",
              "      <td>313.000000</td>\n",
              "    </tr>\n",
              "    <tr>\n",
              "      <th>mean</th>\n",
              "      <td>5.447284</td>\n",
              "      <td>192.787540</td>\n",
              "      <td>104.009585</td>\n",
              "      <td>2972.255591</td>\n",
              "      <td>15.560383</td>\n",
              "      <td>76.070288</td>\n",
              "      <td>0.623003</td>\n",
              "      <td>0.169329</td>\n",
              "      <td>0.207668</td>\n",
              "    </tr>\n",
              "    <tr>\n",
              "      <th>std</th>\n",
              "      <td>1.690263</td>\n",
              "      <td>103.201153</td>\n",
              "      <td>37.915348</td>\n",
              "      <td>841.134947</td>\n",
              "      <td>2.785476</td>\n",
              "      <td>3.660449</td>\n",
              "      <td>0.485410</td>\n",
              "      <td>0.375643</td>\n",
              "      <td>0.406287</td>\n",
              "    </tr>\n",
              "    <tr>\n",
              "      <th>min</th>\n",
              "      <td>3.000000</td>\n",
              "      <td>68.000000</td>\n",
              "      <td>46.000000</td>\n",
              "      <td>1613.000000</td>\n",
              "      <td>8.000000</td>\n",
              "      <td>70.000000</td>\n",
              "      <td>0.000000</td>\n",
              "      <td>0.000000</td>\n",
              "      <td>0.000000</td>\n",
              "    </tr>\n",
              "    <tr>\n",
              "      <th>25%</th>\n",
              "      <td>4.000000</td>\n",
              "      <td>105.000000</td>\n",
              "      <td>78.000000</td>\n",
              "      <td>2230.000000</td>\n",
              "      <td>13.600000</td>\n",
              "      <td>73.000000</td>\n",
              "      <td>0.000000</td>\n",
              "      <td>0.000000</td>\n",
              "      <td>0.000000</td>\n",
              "    </tr>\n",
              "    <tr>\n",
              "      <th>50%</th>\n",
              "      <td>4.000000</td>\n",
              "      <td>151.000000</td>\n",
              "      <td>95.000000</td>\n",
              "      <td>2815.000000</td>\n",
              "      <td>15.500000</td>\n",
              "      <td>76.000000</td>\n",
              "      <td>1.000000</td>\n",
              "      <td>0.000000</td>\n",
              "      <td>0.000000</td>\n",
              "    </tr>\n",
              "    <tr>\n",
              "      <th>75%</th>\n",
              "      <td>8.000000</td>\n",
              "      <td>260.000000</td>\n",
              "      <td>120.000000</td>\n",
              "      <td>3574.000000</td>\n",
              "      <td>17.000000</td>\n",
              "      <td>79.000000</td>\n",
              "      <td>1.000000</td>\n",
              "      <td>0.000000</td>\n",
              "      <td>0.000000</td>\n",
              "    </tr>\n",
              "    <tr>\n",
              "      <th>max</th>\n",
              "      <td>8.000000</td>\n",
              "      <td>455.000000</td>\n",
              "      <td>230.000000</td>\n",
              "      <td>5140.000000</td>\n",
              "      <td>24.800000</td>\n",
              "      <td>82.000000</td>\n",
              "      <td>1.000000</td>\n",
              "      <td>1.000000</td>\n",
              "      <td>1.000000</td>\n",
              "    </tr>\n",
              "  </tbody>\n",
              "</table>\n",
              "</div>\n",
              "      <button class=\"colab-df-convert\" onclick=\"convertToInteractive('df-e0cffd97-a397-42bd-ae98-622e07095e4b')\"\n",
              "              title=\"Convert this dataframe to an interactive table.\"\n",
              "              style=\"display:none;\">\n",
              "        \n",
              "  <svg xmlns=\"http://www.w3.org/2000/svg\" height=\"24px\"viewBox=\"0 0 24 24\"\n",
              "       width=\"24px\">\n",
              "    <path d=\"M0 0h24v24H0V0z\" fill=\"none\"/>\n",
              "    <path d=\"M18.56 5.44l.94 2.06.94-2.06 2.06-.94-2.06-.94-.94-2.06-.94 2.06-2.06.94zm-11 1L8.5 8.5l.94-2.06 2.06-.94-2.06-.94L8.5 2.5l-.94 2.06-2.06.94zm10 10l.94 2.06.94-2.06 2.06-.94-2.06-.94-.94-2.06-.94 2.06-2.06.94z\"/><path d=\"M17.41 7.96l-1.37-1.37c-.4-.4-.92-.59-1.43-.59-.52 0-1.04.2-1.43.59L10.3 9.45l-7.72 7.72c-.78.78-.78 2.05 0 2.83L4 21.41c.39.39.9.59 1.41.59.51 0 1.02-.2 1.41-.59l7.78-7.78 2.81-2.81c.8-.78.8-2.07 0-2.86zM5.41 20L4 18.59l7.72-7.72 1.47 1.35L5.41 20z\"/>\n",
              "  </svg>\n",
              "      </button>\n",
              "      \n",
              "  <style>\n",
              "    .colab-df-container {\n",
              "      display:flex;\n",
              "      flex-wrap:wrap;\n",
              "      gap: 12px;\n",
              "    }\n",
              "\n",
              "    .colab-df-convert {\n",
              "      background-color: #E8F0FE;\n",
              "      border: none;\n",
              "      border-radius: 50%;\n",
              "      cursor: pointer;\n",
              "      display: none;\n",
              "      fill: #1967D2;\n",
              "      height: 32px;\n",
              "      padding: 0 0 0 0;\n",
              "      width: 32px;\n",
              "    }\n",
              "\n",
              "    .colab-df-convert:hover {\n",
              "      background-color: #E2EBFA;\n",
              "      box-shadow: 0px 1px 2px rgba(60, 64, 67, 0.3), 0px 1px 3px 1px rgba(60, 64, 67, 0.15);\n",
              "      fill: #174EA6;\n",
              "    }\n",
              "\n",
              "    [theme=dark] .colab-df-convert {\n",
              "      background-color: #3B4455;\n",
              "      fill: #D2E3FC;\n",
              "    }\n",
              "\n",
              "    [theme=dark] .colab-df-convert:hover {\n",
              "      background-color: #434B5C;\n",
              "      box-shadow: 0px 1px 3px 1px rgba(0, 0, 0, 0.15);\n",
              "      filter: drop-shadow(0px 1px 2px rgba(0, 0, 0, 0.3));\n",
              "      fill: #FFFFFF;\n",
              "    }\n",
              "  </style>\n",
              "\n",
              "      <script>\n",
              "        const buttonEl =\n",
              "          document.querySelector('#df-e0cffd97-a397-42bd-ae98-622e07095e4b button.colab-df-convert');\n",
              "        buttonEl.style.display =\n",
              "          google.colab.kernel.accessAllowed ? 'block' : 'none';\n",
              "\n",
              "        async function convertToInteractive(key) {\n",
              "          const element = document.querySelector('#df-e0cffd97-a397-42bd-ae98-622e07095e4b');\n",
              "          const dataTable =\n",
              "            await google.colab.kernel.invokeFunction('convertToInteractive',\n",
              "                                                     [key], {});\n",
              "          if (!dataTable) return;\n",
              "\n",
              "          const docLinkHtml = 'Like what you see? Visit the ' +\n",
              "            '<a target=\"_blank\" href=https://colab.research.google.com/notebooks/data_table.ipynb>data table notebook</a>'\n",
              "            + ' to learn more about interactive tables.';\n",
              "          element.innerHTML = '';\n",
              "          dataTable['output_type'] = 'display_data';\n",
              "          await google.colab.output.renderOutput(dataTable, element);\n",
              "          const docLink = document.createElement('div');\n",
              "          docLink.innerHTML = docLinkHtml;\n",
              "          element.appendChild(docLink);\n",
              "        }\n",
              "      </script>\n",
              "    </div>\n",
              "  </div>\n",
              "  "
            ]
          },
          "metadata": {},
          "execution_count": 5
        }
      ]
    },
    {
      "cell_type": "markdown",
      "metadata": {
        "id": "E0zYGXx5q_hB"
      },
      "source": [
        "5.\tNormalize the feature columns in both training and testing datasets so that their means equal to zero and variances equal to one. Describe the statistics of your normalized feature matrix. **(5pt)**\n",
        "\n",
        "\n"
      ]
    },
    {
      "cell_type": "code",
      "metadata": {
        "id": "JlC5ooJrgjQF",
        "colab": {
          "base_uri": "https://localhost:8080/",
          "height": 300
        },
        "outputId": "cff0fba2-83b4-427b-e2d2-7f15b4d911d6"
      },
      "source": [
        "#normalize data with StandardScaler\n",
        "from sklearn import preprocessing\n",
        "from sklearn.preprocessing import StandardScaler\n",
        "scale = StandardScaler()\n",
        "X_train = scale.fit_transform(X_train)\n",
        "X_test = scale.transform(X_test)\n",
        "\n",
        "\n",
        "X_train = pd.DataFrame(X_train, columns = X.columns)\n",
        "X_test = pd.DataFrame(X_test, columns = X.columns)\n",
        "\n",
        "X_train.describe()"
      ],
      "execution_count": null,
      "outputs": [
        {
          "output_type": "execute_result",
          "data": {
            "text/plain": [
              "          cylinders  displacement    horsepower        weight  acceleration  \\\n",
              "count  3.130000e+02  3.130000e+02  3.130000e+02  3.130000e+02  3.130000e+02   \n",
              "mean   2.553868e-17  1.418815e-17 -1.163429e-16 -2.411986e-16  2.447457e-16   \n",
              "std    1.001601e+00  1.001601e+00  1.001601e+00  1.001601e+00  1.001601e+00   \n",
              "min   -1.450191e+00 -1.211104e+00 -1.532426e+00 -1.618566e+00 -2.718563e+00   \n",
              "25%   -8.576193e-01 -8.520071e-01 -6.870894e-01 -8.838584e-01 -7.049146e-01   \n",
              "50%   -8.576193e-01 -4.055619e-01 -2.380042e-01 -1.872558e-01 -2.171266e-02   \n",
              "75%    1.512666e+00  6.523191e-01  4.224152e-01  7.165414e-01  5.176573e-01   \n",
              "max    1.512666e+00  2.544859e+00  3.328261e+00  2.581293e+00  3.322381e+00   \n",
              "\n",
              "         model year      origin_1    origin_2      origin_3  \n",
              "count  3.130000e+02  3.130000e+02  313.000000  3.130000e+02  \n",
              "mean  -2.965324e-16  3.405157e-17    0.000000 -5.675261e-17  \n",
              "std    1.001601e+00  1.001601e+00    1.001601  1.001601e+00  \n",
              "min   -1.661000e+00 -1.285512e+00   -0.451493 -5.119539e-01  \n",
              "25%   -8.401165e-01 -1.285512e+00   -0.451493 -5.119539e-01  \n",
              "50%   -1.923264e-02  7.778999e-01   -0.451493 -5.119539e-01  \n",
              "75%    8.016512e-01  7.778999e-01   -0.451493 -5.119539e-01  \n",
              "max    1.622535e+00  7.778999e-01    2.214873  1.953301e+00  "
            ],
            "text/html": [
              "\n",
              "  <div id=\"df-71ecec75-ef29-4b4f-9381-bfd68362e03a\">\n",
              "    <div class=\"colab-df-container\">\n",
              "      <div>\n",
              "<style scoped>\n",
              "    .dataframe tbody tr th:only-of-type {\n",
              "        vertical-align: middle;\n",
              "    }\n",
              "\n",
              "    .dataframe tbody tr th {\n",
              "        vertical-align: top;\n",
              "    }\n",
              "\n",
              "    .dataframe thead th {\n",
              "        text-align: right;\n",
              "    }\n",
              "</style>\n",
              "<table border=\"1\" class=\"dataframe\">\n",
              "  <thead>\n",
              "    <tr style=\"text-align: right;\">\n",
              "      <th></th>\n",
              "      <th>cylinders</th>\n",
              "      <th>displacement</th>\n",
              "      <th>horsepower</th>\n",
              "      <th>weight</th>\n",
              "      <th>acceleration</th>\n",
              "      <th>model year</th>\n",
              "      <th>origin_1</th>\n",
              "      <th>origin_2</th>\n",
              "      <th>origin_3</th>\n",
              "    </tr>\n",
              "  </thead>\n",
              "  <tbody>\n",
              "    <tr>\n",
              "      <th>count</th>\n",
              "      <td>3.130000e+02</td>\n",
              "      <td>3.130000e+02</td>\n",
              "      <td>3.130000e+02</td>\n",
              "      <td>3.130000e+02</td>\n",
              "      <td>3.130000e+02</td>\n",
              "      <td>3.130000e+02</td>\n",
              "      <td>3.130000e+02</td>\n",
              "      <td>313.000000</td>\n",
              "      <td>3.130000e+02</td>\n",
              "    </tr>\n",
              "    <tr>\n",
              "      <th>mean</th>\n",
              "      <td>2.553868e-17</td>\n",
              "      <td>1.418815e-17</td>\n",
              "      <td>-1.163429e-16</td>\n",
              "      <td>-2.411986e-16</td>\n",
              "      <td>2.447457e-16</td>\n",
              "      <td>-2.965324e-16</td>\n",
              "      <td>3.405157e-17</td>\n",
              "      <td>0.000000</td>\n",
              "      <td>-5.675261e-17</td>\n",
              "    </tr>\n",
              "    <tr>\n",
              "      <th>std</th>\n",
              "      <td>1.001601e+00</td>\n",
              "      <td>1.001601e+00</td>\n",
              "      <td>1.001601e+00</td>\n",
              "      <td>1.001601e+00</td>\n",
              "      <td>1.001601e+00</td>\n",
              "      <td>1.001601e+00</td>\n",
              "      <td>1.001601e+00</td>\n",
              "      <td>1.001601</td>\n",
              "      <td>1.001601e+00</td>\n",
              "    </tr>\n",
              "    <tr>\n",
              "      <th>min</th>\n",
              "      <td>-1.450191e+00</td>\n",
              "      <td>-1.211104e+00</td>\n",
              "      <td>-1.532426e+00</td>\n",
              "      <td>-1.618566e+00</td>\n",
              "      <td>-2.718563e+00</td>\n",
              "      <td>-1.661000e+00</td>\n",
              "      <td>-1.285512e+00</td>\n",
              "      <td>-0.451493</td>\n",
              "      <td>-5.119539e-01</td>\n",
              "    </tr>\n",
              "    <tr>\n",
              "      <th>25%</th>\n",
              "      <td>-8.576193e-01</td>\n",
              "      <td>-8.520071e-01</td>\n",
              "      <td>-6.870894e-01</td>\n",
              "      <td>-8.838584e-01</td>\n",
              "      <td>-7.049146e-01</td>\n",
              "      <td>-8.401165e-01</td>\n",
              "      <td>-1.285512e+00</td>\n",
              "      <td>-0.451493</td>\n",
              "      <td>-5.119539e-01</td>\n",
              "    </tr>\n",
              "    <tr>\n",
              "      <th>50%</th>\n",
              "      <td>-8.576193e-01</td>\n",
              "      <td>-4.055619e-01</td>\n",
              "      <td>-2.380042e-01</td>\n",
              "      <td>-1.872558e-01</td>\n",
              "      <td>-2.171266e-02</td>\n",
              "      <td>-1.923264e-02</td>\n",
              "      <td>7.778999e-01</td>\n",
              "      <td>-0.451493</td>\n",
              "      <td>-5.119539e-01</td>\n",
              "    </tr>\n",
              "    <tr>\n",
              "      <th>75%</th>\n",
              "      <td>1.512666e+00</td>\n",
              "      <td>6.523191e-01</td>\n",
              "      <td>4.224152e-01</td>\n",
              "      <td>7.165414e-01</td>\n",
              "      <td>5.176573e-01</td>\n",
              "      <td>8.016512e-01</td>\n",
              "      <td>7.778999e-01</td>\n",
              "      <td>-0.451493</td>\n",
              "      <td>-5.119539e-01</td>\n",
              "    </tr>\n",
              "    <tr>\n",
              "      <th>max</th>\n",
              "      <td>1.512666e+00</td>\n",
              "      <td>2.544859e+00</td>\n",
              "      <td>3.328261e+00</td>\n",
              "      <td>2.581293e+00</td>\n",
              "      <td>3.322381e+00</td>\n",
              "      <td>1.622535e+00</td>\n",
              "      <td>7.778999e-01</td>\n",
              "      <td>2.214873</td>\n",
              "      <td>1.953301e+00</td>\n",
              "    </tr>\n",
              "  </tbody>\n",
              "</table>\n",
              "</div>\n",
              "      <button class=\"colab-df-convert\" onclick=\"convertToInteractive('df-71ecec75-ef29-4b4f-9381-bfd68362e03a')\"\n",
              "              title=\"Convert this dataframe to an interactive table.\"\n",
              "              style=\"display:none;\">\n",
              "        \n",
              "  <svg xmlns=\"http://www.w3.org/2000/svg\" height=\"24px\"viewBox=\"0 0 24 24\"\n",
              "       width=\"24px\">\n",
              "    <path d=\"M0 0h24v24H0V0z\" fill=\"none\"/>\n",
              "    <path d=\"M18.56 5.44l.94 2.06.94-2.06 2.06-.94-2.06-.94-.94-2.06-.94 2.06-2.06.94zm-11 1L8.5 8.5l.94-2.06 2.06-.94-2.06-.94L8.5 2.5l-.94 2.06-2.06.94zm10 10l.94 2.06.94-2.06 2.06-.94-2.06-.94-.94-2.06-.94 2.06-2.06.94z\"/><path d=\"M17.41 7.96l-1.37-1.37c-.4-.4-.92-.59-1.43-.59-.52 0-1.04.2-1.43.59L10.3 9.45l-7.72 7.72c-.78.78-.78 2.05 0 2.83L4 21.41c.39.39.9.59 1.41.59.51 0 1.02-.2 1.41-.59l7.78-7.78 2.81-2.81c.8-.78.8-2.07 0-2.86zM5.41 20L4 18.59l7.72-7.72 1.47 1.35L5.41 20z\"/>\n",
              "  </svg>\n",
              "      </button>\n",
              "      \n",
              "  <style>\n",
              "    .colab-df-container {\n",
              "      display:flex;\n",
              "      flex-wrap:wrap;\n",
              "      gap: 12px;\n",
              "    }\n",
              "\n",
              "    .colab-df-convert {\n",
              "      background-color: #E8F0FE;\n",
              "      border: none;\n",
              "      border-radius: 50%;\n",
              "      cursor: pointer;\n",
              "      display: none;\n",
              "      fill: #1967D2;\n",
              "      height: 32px;\n",
              "      padding: 0 0 0 0;\n",
              "      width: 32px;\n",
              "    }\n",
              "\n",
              "    .colab-df-convert:hover {\n",
              "      background-color: #E2EBFA;\n",
              "      box-shadow: 0px 1px 2px rgba(60, 64, 67, 0.3), 0px 1px 3px 1px rgba(60, 64, 67, 0.15);\n",
              "      fill: #174EA6;\n",
              "    }\n",
              "\n",
              "    [theme=dark] .colab-df-convert {\n",
              "      background-color: #3B4455;\n",
              "      fill: #D2E3FC;\n",
              "    }\n",
              "\n",
              "    [theme=dark] .colab-df-convert:hover {\n",
              "      background-color: #434B5C;\n",
              "      box-shadow: 0px 1px 3px 1px rgba(0, 0, 0, 0.15);\n",
              "      filter: drop-shadow(0px 1px 2px rgba(0, 0, 0, 0.3));\n",
              "      fill: #FFFFFF;\n",
              "    }\n",
              "  </style>\n",
              "\n",
              "      <script>\n",
              "        const buttonEl =\n",
              "          document.querySelector('#df-71ecec75-ef29-4b4f-9381-bfd68362e03a button.colab-df-convert');\n",
              "        buttonEl.style.display =\n",
              "          google.colab.kernel.accessAllowed ? 'block' : 'none';\n",
              "\n",
              "        async function convertToInteractive(key) {\n",
              "          const element = document.querySelector('#df-71ecec75-ef29-4b4f-9381-bfd68362e03a');\n",
              "          const dataTable =\n",
              "            await google.colab.kernel.invokeFunction('convertToInteractive',\n",
              "                                                     [key], {});\n",
              "          if (!dataTable) return;\n",
              "\n",
              "          const docLinkHtml = 'Like what you see? Visit the ' +\n",
              "            '<a target=\"_blank\" href=https://colab.research.google.com/notebooks/data_table.ipynb>data table notebook</a>'\n",
              "            + ' to learn more about interactive tables.';\n",
              "          element.innerHTML = '';\n",
              "          dataTable['output_type'] = 'display_data';\n",
              "          await google.colab.output.renderOutput(dataTable, element);\n",
              "          const docLink = document.createElement('div');\n",
              "          docLink.innerHTML = docLinkHtml;\n",
              "          element.appendChild(docLink);\n",
              "        }\n",
              "      </script>\n",
              "    </div>\n",
              "  </div>\n",
              "  "
            ]
          },
          "metadata": {},
          "execution_count": 6
        }
      ]
    },
    {
      "cell_type": "markdown",
      "metadata": {
        "id": "aqDPrWx_rDOA"
      },
      "source": [
        "6.\tBuild a sequential neural network model in Keras with two densely connected hidden layers (32 neurons and ReLU activation function for each hidden layer), and an output layer that returns a single, continuous value. Print out the model summary. **(10pt)**"
      ]
    },
    {
      "cell_type": "code",
      "metadata": {
        "id": "c26juK7ZG8j-",
        "colab": {
          "base_uri": "https://localhost:8080/"
        },
        "outputId": "7790b2c0-4ea9-463a-f979-4288361df02a"
      },
      "source": [
        "#build NN\n",
        "from tensorflow.keras import models\n",
        "from tensorflow.keras import layers\n",
        "\n",
        "nnmod = models.Sequential()\n",
        "nnmod.add(layers.Dense(32, activation = 'relu', input_shape = (9,)))\n",
        "nnmod.add(layers.Dense(32, activation = 'relu'))\n",
        "nnmod.add(layers.Dense(1))\n",
        "\n",
        "print(nnmod.summary())"
      ],
      "execution_count": null,
      "outputs": [
        {
          "output_type": "stream",
          "name": "stdout",
          "text": [
            "Model: \"sequential\"\n",
            "_________________________________________________________________\n",
            " Layer (type)                Output Shape              Param #   \n",
            "=================================================================\n",
            " dense (Dense)               (None, 32)                320       \n",
            "                                                                 \n",
            " dense_1 (Dense)             (None, 32)                1056      \n",
            "                                                                 \n",
            " dense_2 (Dense)             (None, 1)                 33        \n",
            "                                                                 \n",
            "=================================================================\n",
            "Total params: 1,409\n",
            "Trainable params: 1,409\n",
            "Non-trainable params: 0\n",
            "_________________________________________________________________\n",
            "None\n"
          ]
        }
      ]
    },
    {
      "cell_type": "markdown",
      "metadata": {
        "id": "Y6P-H0ferHfJ"
      },
      "source": [
        "7.\tDefine the appropriate loss function, optimizer, and metrics for this specific problem and compile the NN model. **(10pt)**"
      ]
    },
    {
      "cell_type": "code",
      "metadata": {
        "id": "UFK1JrlwPUIS"
      },
      "source": [
        "#compile model\n",
        "nnmod.compile(optimizer = 'rmsprop',\n",
        "              loss = 'mse',\n",
        "              metrics = ['mae'])"
      ],
      "execution_count": null,
      "outputs": []
    },
    {
      "cell_type": "markdown",
      "metadata": {
        "id": "9RWXSuCOrKpq"
      },
      "source": [
        "8.\tPut aside 20% of the normalized training data as the validation dataset and set verbose = 0 to compress the model training. Train the NN model for 100 epochs and batch size of 32 and plot the training and validation loss progress with respect to the epoch number. **(10pt)**"
      ]
    },
    {
      "cell_type": "code",
      "metadata": {
        "id": "3RYJw1bKP1R2",
        "colab": {
          "base_uri": "https://localhost:8080/"
        },
        "outputId": "eff37091-08e7-4b4d-c7ba-dcef8a819ff0"
      },
      "source": [
        "#train model\n",
        "nnmod.fit(X_train, y_train, batch_size = 32, epochs = 100, validation_split = 0.2, verbose = 0)"
      ],
      "execution_count": null,
      "outputs": [
        {
          "output_type": "execute_result",
          "data": {
            "text/plain": [
              "<keras.callbacks.History at 0x7fb2b4171b10>"
            ]
          },
          "metadata": {},
          "execution_count": 9
        }
      ]
    },
    {
      "cell_type": "markdown",
      "metadata": {
        "id": "5xLHwWMWrV1x"
      },
      "source": [
        "9.\tUse the trained NN model to make predictions on the normalized testing dataset and observe the prediction error. **(5pt)**"
      ]
    },
    {
      "cell_type": "code",
      "metadata": {
        "id": "Xe7RXH3N3CWU",
        "colab": {
          "base_uri": "https://localhost:8080/"
        },
        "outputId": "91d00759-6323-470d-e076-37cb73bdc0b9"
      },
      "source": [
        "#evaluate model\n",
        "metrics = nnmod.evaluate(X_test, y_test)\n",
        "print(metrics)"
      ],
      "execution_count": null,
      "outputs": [
        {
          "output_type": "stream",
          "name": "stdout",
          "text": [
            "3/3 [==============================] - 0s 5ms/step - loss: 6.1271 - mae: 1.8071\n",
            "[6.127064228057861, 1.8070756196975708]\n"
          ]
        }
      ]
    }
  ]
}